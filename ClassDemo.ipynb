{
  "cells": [
    {
      "cell_type": "markdown",
      "metadata": {},
      "source": [
        "# Class Activity: Reading Annotated Code\n",
        "In this activity, we'll use comments and a Docstring to help us understand what the code is doing."
      ]
    },
    {
      "cell_type": "markdown",
      "metadata": {},
      "source": [
        "## First Chunk: *cheeses* List"
      ]
    },
    {
      "cell_type": "code",
      "execution_count": null,
      "metadata": {
        "id": "jExnsUcelPgL"
      },
      "outputs": [],
      "source": [
        "# Create list called cheeses that contains a bunch of dictionaries\n",
        "cheeses = [{\"name\": \"Cheddar\", \"type\": \"hard\"}, {\"name\": \"Brie\", \"type\": \"soft\"},\n",
        "           {\"name\": \"Broccoli\", \"type\": \"vegetable\"}, {\"name\": \"Feta\", \"type\": \"soft\"},\n",
        "           {\"name\": \"Cream Cheese\", \"type\": \"soft\"}, {\"name\": \"Manchego\", \"type\": \"hard\"},\n",
        "           {\"name\": \"Gouda\", \"type\": \"hard\"}, {\"name\": \"Camembert\", \"type\": \"soft\"},\n",
        "           {\"name\": \"Gorgonzola\", \"type\": \"soft\"}, {\"name\": \"Cauliflower\", \"type\": \"vegetable\"},\n",
        "           {\"name\": \"Ritz crackers\", \"type\": \"cracker\"}, {\"name\": \"Parmesan\", \"type\": \"hard\"}]"
      ]
    },
    {
      "cell_type": "markdown",
      "metadata": {},
      "source": [
        "## Second Chunk: *cheese_assessment* Function"
      ]
    },
    {
      "cell_type": "code",
      "execution_count": null,
      "metadata": {
        "id": "MQVLxuENkt4J"
      },
      "outputs": [],
      "source": [
        "# Define function to sort cheeses and only return some based on the user's preference\n",
        "def cheese_assessment(cheeses, preference):\n",
        "  \"\"\"\n",
        "  Sorts cheeses based on whether they are hard or soft, and returns a list based on the user's preference.\n",
        "\n",
        "  Args:\n",
        "    cheeses (list): the cheese options\n",
        "    preference (str): the user's preference, either 'hard' or 'soft'\n",
        "\n",
        "  Returns:\n",
        "    str: a nicely formatted string providing the user a list of their preferred cheeses.\n",
        "  \"\"\"\n",
        "  # Set up empty global variables: lists to hold the hard and soft cheeses\n",
        "  hard = []\n",
        "  soft = []\n",
        "\n",
        "  # Loop through cheese list to look at each cheese\n",
        "  for cheese in cheeses:\n",
        "    name = cheese[\"name\"] # Get the name of the cheese\n",
        "    if cheese[\"type\"] == \"hard\": # Compare the type of the cheese to hard\n",
        "      hard.append(cheese) # Add hard cheeses to hard list\n",
        "    elif cheese[\"type\"] == \"soft\": # Compare the type of the cheese to soft\n",
        "      soft.append(cheese) # Add soft cheeses to soft list\n",
        "    else:\n",
        "      continue # If it's not a hard or soft cheese, ignore it\n",
        "\n",
        "  # Outside of the loop, checking to see what the user's preference is\n",
        "  if preference == \"soft\": # If the user likes soft cheeses...\n",
        "      names = [cheese.get(\"name\") for cheese in soft if \"name\" in cheese] # Get a list of just the names in the soft list\n",
        "      return f\"Ahhh, {preference}! Yummm! Our soft cheeses are: {names}\" # And print them out in a nice string\n",
        "  elif preference == \"hard\": # If the user likes hard cheeses..\n",
        "      names = [cheese.get(\"name\") for cheese in hard if \"name\" in cheese] # Get a list of just the names in the hard list\n",
        "      return f\"Of course, {preference}! Delicious! Our hard cheeses are: {names}\" # And print them out in a nice string\n",
        "  else:\n",
        "      return f\"Sorry, {preference} isn't an option. Try 'hard' or 'soft'.\" # If they said something else, remind them of the options"
      ]
    },
    {
      "cell_type": "markdown",
      "metadata": {},
      "source": [
        "## What will be the output for each of the following times we call *cheese_assessment*?"
      ]
    },
    {
      "cell_type": "code",
      "execution_count": null,
      "metadata": {
        "id": "h9dNclP-lspb"
      },
      "outputs": [],
      "source": [
        "# 1\n",
        "cheese_assessment(cheeses, \"hard\")\n",
        "# 2\n",
        "cheese_assessment(cheeses, \"soft\")\n",
        "# 3\n",
        "cheese_assessment(cheeses, \"dairy-free\")"
      ]
    }
  ],
  "metadata": {
    "colab": {
      "provenance": []
    },
    "kernelspec": {
      "display_name": "Python 3",
      "name": "python3"
    },
    "language_info": {
      "name": "python",
      "version": "3.11.9"
    }
  },
  "nbformat": 4,
  "nbformat_minor": 0
}
